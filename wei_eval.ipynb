{
 "cells": [
  {
   "cell_type": "markdown",
   "source": [
    "weibifan 2022-10-15\n",
    "很奇怪，代码二次执行需要下载几个G的模型文件，但是该文件已经在系统中缓存了。\n",
    "问题生成：\n",
    "问题回答：\n"
   ],
   "metadata": {
    "collapsed": false
   }
  },
  {
   "cell_type": "code",
   "execution_count": 5,
   "outputs": [
    {
     "name": "stdout",
     "output_type": "stream",
     "text": [
      "[['在寒冷的冬天,农夫在哪里发现了一条可怜的蛇?', '农夫是如何看待蛇的?', '当农夫遇到蛇时,他做了什么?']]\n"
     ]
    }
   ],
   "source": [
    "from question_generation import pipeline\n",
    "\n",
    "pipe = pipeline(\"question-generation\")\n",
    "\n",
    "text = [\"在一个寒冷的冬天，赶集完回家的农夫在路边发现了一条冻僵了的蛇。他很可怜蛇，就把它放在怀里。当他身上的热气把蛇温暖以后，蛇很快苏醒了，露出了残忍的本性，给了农夫致命的伤害——咬了农夫一口。农夫临死之前说：“我竟然救了一条可怜的毒蛇，就应该受到这种报应啊！”\"]\n",
    "\n",
    "question1= pipe(text)   #这行代码执行需要一段时间，且没有提示\n",
    "print(question1)"
   ],
   "metadata": {
    "collapsed": false
   }
  },
  {
   "cell_type": "code",
   "execution_count": 6,
   "outputs": [
    {
     "name": "stdout",
     "output_type": "stream",
     "text": [
      "{'answer': '路边', 'start': 18, 'end': 20, 'score': 1.0}\n"
     ]
    }
   ],
   "source": [
    "qa = pipeline(\"question-answering\")\n",
    "context = \"在一个寒冷的冬天，赶集完回家的农夫在路边发现了一条冻僵了的蛇。他很可怜蛇，就把它放在怀里。当他身上的热气把蛇温暖以后，蛇很快苏醒了，露出了残忍的本性，给了农夫致命的伤害——咬了农夫一口。农夫临死之前说：“我竟然救了一条可怜的毒蛇，就应该受到这种报应啊！”\"\n",
    "qa_input={\n",
    "    'question':  '在寒冷的冬天,农夫在哪里发现了一条可怜的蛇?',\n",
    "    'context':  context\n",
    "}\n",
    "\n",
    "myanswer = qa(qa_input)  #这行代码执行需要一段时间，且没有提示\n",
    "print(myanswer)"
   ],
   "metadata": {
    "collapsed": false
   }
  },
  {
   "cell_type": "code",
   "execution_count": 7,
   "outputs": [
    {
     "name": "stdout",
     "output_type": "stream",
     "text": [
      "{'answer': '放在怀里', 'start': 40, 'end': 44, 'score': 0.9995096921920776}\n"
     ]
    }
   ],
   "source": [
    "qa_input={\n",
    "    'question':  '当农夫遇到蛇时,他做了什么?',\n",
    "    'context':  context\n",
    "}\n",
    "\n",
    "myanswer = qa(qa_input)  #模型已经加载，二次执行很快\n",
    "print(myanswer)"
   ],
   "metadata": {
    "collapsed": false
   }
  },
  {
   "cell_type": "code",
   "execution_count": null,
   "outputs": [],
   "source": [],
   "metadata": {
    "collapsed": false
   }
  }
 ],
 "metadata": {
  "kernelspec": {
   "display_name": "Python 3",
   "language": "python",
   "name": "python3"
  },
  "language_info": {
   "codemirror_mode": {
    "name": "ipython",
    "version": 2
   },
   "file_extension": ".py",
   "mimetype": "text/x-python",
   "name": "python",
   "nbconvert_exporter": "python",
   "pygments_lexer": "ipython2",
   "version": "2.7.6"
  }
 },
 "nbformat": 4,
 "nbformat_minor": 0
}
